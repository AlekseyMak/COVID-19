{
 "cells": [
  {
   "cell_type": "code",
   "execution_count": 1,
   "metadata": {},
   "outputs": [],
   "source": [
    "import requests\n",
    "import re\n",
    "from bs4 import BeautifulSoup\n",
    "import pandas as pd\n",
    "import time\n",
    "import sys\n",
    "\n",
    "from tqdm import tqdm_notebook\n",
    "from fake_useragent import UserAgent"
   ]
  },
  {
   "cell_type": "code",
   "execution_count": 75,
   "metadata": {},
   "outputs": [],
   "source": [
    "url_main = \"https://www.flightconnections.com/\"\n",
    "url_codes = \"airport-codes\""
   ]
  },
  {
   "cell_type": "code",
   "execution_count": 168,
   "metadata": {},
   "outputs": [],
   "source": [
    "res = requests.get(url_main + url_codes, headers={'User-Agent': UserAgent().chrome})\n",
    "html = res.content\n",
    "soup = BeautifulSoup(html, 'lxml')"
   ]
  },
  {
   "cell_type": "code",
   "execution_count": 78,
   "metadata": {},
   "outputs": [],
   "source": [
    "def get_soup(url):\n",
    "    res = requests.get(url, headers={'User-Agent': UserAgent().chrome})\n",
    "    html = res.content\n",
    "    soup = BeautifulSoup(html, 'lxml')\n",
    "    return soup"
   ]
  },
  {
   "cell_type": "code",
   "execution_count": 171,
   "metadata": {},
   "outputs": [
    {
     "data": {
      "text/plain": [
       "26"
      ]
     },
     "execution_count": 171,
     "metadata": {},
     "output_type": "execute_result"
    }
   ],
   "source": [
    "airport_list = soup.findAll(\"ul\", attrs={\"class\":\"airport-list\"})\n",
    "len(airport_list)"
   ]
  },
  {
   "cell_type": "code",
   "execution_count": 172,
   "metadata": {},
   "outputs": [],
   "source": [
    "airport_list = [airport_group.findAll(\"li\") for airport_group in airport_list]"
   ]
  },
  {
   "cell_type": "code",
   "execution_count": 173,
   "metadata": {},
   "outputs": [],
   "source": [
    "airport_list = sum(airport_list, [])"
   ]
  },
  {
   "cell_type": "code",
   "execution_count": 174,
   "metadata": {},
   "outputs": [
    {
     "data": {
      "text/plain": [
       "3925"
      ]
     },
     "execution_count": 174,
     "metadata": {},
     "output_type": "execute_result"
    }
   ],
   "source": [
    "len(airport_list)"
   ]
  },
  {
   "cell_type": "code",
   "execution_count": 61,
   "metadata": {},
   "outputs": [
    {
     "data": {
      "text/plain": [
       "<li>\n",
       "<a href=\"/flights-from-anaa-aaa\" title=\"\">\n",
       "<div class=\"country-airports-info\">\n",
       "<p class=\"airport-city\"><span class=\"airport-code\">AAA</span><span class=\"airport-city-country\">Anaa, French Polynesia</span></p>\n",
       "<p><span class=\"airport-name\">Anaa Airport</span></p>\n",
       "</div>\n",
       "</a>\n",
       "</li>"
      ]
     },
     "execution_count": 61,
     "metadata": {},
     "output_type": "execute_result"
    }
   ],
   "source": [
    "airport = airport_list[0]\n",
    "airport"
   ]
  },
  {
   "cell_type": "code",
   "execution_count": 24,
   "metadata": {},
   "outputs": [
    {
     "data": {
      "text/plain": [
       "'/flights-from-anaa-aaa'"
      ]
     },
     "execution_count": 24,
     "metadata": {},
     "output_type": "execute_result"
    }
   ],
   "source": [
    "link = airport.find(\"a\").get(\"href\")\n",
    "link"
   ]
  },
  {
   "cell_type": "code",
   "execution_count": 26,
   "metadata": {},
   "outputs": [
    {
     "data": {
      "text/plain": [
       "'AAA'"
      ]
     },
     "execution_count": 26,
     "metadata": {},
     "output_type": "execute_result"
    }
   ],
   "source": [
    "code = airport.find(\"span\", attrs={\"class\":\"airport-code\"}).text\n",
    "code"
   ]
  },
  {
   "cell_type": "code",
   "execution_count": 27,
   "metadata": {},
   "outputs": [
    {
     "data": {
      "text/plain": [
       "'Anaa Airport'"
      ]
     },
     "execution_count": 27,
     "metadata": {},
     "output_type": "execute_result"
    }
   ],
   "source": [
    "name = airport.find(\"span\", attrs={\"class\":\"airport-name\"}).text\n",
    "name"
   ]
  },
  {
   "cell_type": "code",
   "execution_count": 32,
   "metadata": {},
   "outputs": [
    {
     "data": {
      "text/plain": [
       "('Anaa', 'French Polynesia')"
      ]
     },
     "execution_count": 32,
     "metadata": {},
     "output_type": "execute_result"
    }
   ],
   "source": [
    "city, country = airport.find(\"span\", attrs={\"class\":\"airport-city-country\"}).text.split(\",\")\n",
    "city, country = city.strip(), country.strip()\n",
    "city, country"
   ]
  },
  {
   "cell_type": "code",
   "execution_count": 34,
   "metadata": {},
   "outputs": [],
   "source": [
    "from typing import Dict, List"
   ]
  },
  {
   "cell_type": "code",
   "execution_count": 43,
   "metadata": {},
   "outputs": [],
   "source": [
    "def get_airport_info(airport)->Dict[str,str]:\n",
    "    \"\"\"\n",
    "    Get the following info:\n",
    "        - name\n",
    "        - code\n",
    "        - link\n",
    "        - city_country\n",
    "    \n",
    "    :airport: bs4.element.Tag\n",
    "        current airport info from bs4\n",
    "        \n",
    "    returns: Dict\n",
    "        parsed airport information\n",
    "    \"\"\"\n",
    "    link = airport.find(\"a\").get(\"href\")\n",
    "    code = airport.find(\"span\", attrs={\"class\":\"airport-code\"}).text\n",
    "    name = airport.find(\"span\", attrs={\"class\":\"airport-name\"}).text\n",
    "    city_country = airport.find(\"span\", attrs={\"class\":\"airport-city-country\"}).text    \n",
    "    return {\"link\":link, \"code\":code, \"name\":name, \"city_country\":city_country}"
   ]
  },
  {
   "cell_type": "code",
   "execution_count": 62,
   "metadata": {},
   "outputs": [
    {
     "data": {
      "application/vnd.jupyter.widget-view+json": {
       "model_id": "0b0759af4cea40c2a32a98304a56a612",
       "version_major": 2,
       "version_minor": 0
      },
      "text/plain": [
       "HBox(children=(IntProgress(value=0, max=3925), HTML(value='')))"
      ]
     },
     "metadata": {},
     "output_type": "display_data"
    },
    {
     "name": "stdout",
     "output_type": "stream",
     "text": [
      "\n"
     ]
    }
   ],
   "source": [
    "airport_info = []\n",
    "\n",
    "for airport in tqdm_notebook(airport_list):\n",
    "    airport_info.append(get_airport_info(airport))"
   ]
  },
  {
   "cell_type": "code",
   "execution_count": 64,
   "metadata": {},
   "outputs": [
    {
     "data": {
      "text/html": [
       "<div>\n",
       "<style scoped>\n",
       "    .dataframe tbody tr th:only-of-type {\n",
       "        vertical-align: middle;\n",
       "    }\n",
       "\n",
       "    .dataframe tbody tr th {\n",
       "        vertical-align: top;\n",
       "    }\n",
       "\n",
       "    .dataframe thead th {\n",
       "        text-align: right;\n",
       "    }\n",
       "</style>\n",
       "<table border=\"1\" class=\"dataframe\">\n",
       "  <thead>\n",
       "    <tr style=\"text-align: right;\">\n",
       "      <th></th>\n",
       "      <th>link</th>\n",
       "      <th>code</th>\n",
       "      <th>name</th>\n",
       "      <th>city_country</th>\n",
       "    </tr>\n",
       "  </thead>\n",
       "  <tbody>\n",
       "    <tr>\n",
       "      <th>0</th>\n",
       "      <td>/flights-from-anaa-aaa</td>\n",
       "      <td>AAA</td>\n",
       "      <td>Anaa Airport</td>\n",
       "      <td>Anaa, French Polynesia</td>\n",
       "    </tr>\n",
       "    <tr>\n",
       "      <th>1</th>\n",
       "      <td>/flights-from-annaba-aae</td>\n",
       "      <td>AAE</td>\n",
       "      <td>Rabah Bitat Airport (Les Salines</td>\n",
       "      <td>Annaba, Algeria</td>\n",
       "    </tr>\n",
       "    <tr>\n",
       "      <th>2</th>\n",
       "      <td>/flights-from-aranuka-aak</td>\n",
       "      <td>AAK</td>\n",
       "      <td>Aranuka Airport</td>\n",
       "      <td>Aranuka, Kiribati</td>\n",
       "    </tr>\n",
       "    <tr>\n",
       "      <th>3</th>\n",
       "      <td>/flights-from-aalborg-aal</td>\n",
       "      <td>AAL</td>\n",
       "      <td>Aalborg Airport</td>\n",
       "      <td>Aalborg, Denmark</td>\n",
       "    </tr>\n",
       "    <tr>\n",
       "      <th>4</th>\n",
       "      <td>/flights-from-al-ain-aan</td>\n",
       "      <td>AAN</td>\n",
       "      <td>Al Ain International Airport</td>\n",
       "      <td>Al Ain, United Arab Emirates</td>\n",
       "    </tr>\n",
       "    <tr>\n",
       "      <th>...</th>\n",
       "      <td>...</td>\n",
       "      <td>...</td>\n",
       "      <td>...</td>\n",
       "      <td>...</td>\n",
       "    </tr>\n",
       "    <tr>\n",
       "      <th>3920</th>\n",
       "      <td>/flights-from-savannakhet-zvk</td>\n",
       "      <td>ZVK</td>\n",
       "      <td>Savannakhet Airport</td>\n",
       "      <td>Savannakhet, Laos</td>\n",
       "    </tr>\n",
       "    <tr>\n",
       "      <th>3921</th>\n",
       "      <td>/flights-from-wollaston-lake-zwl</td>\n",
       "      <td>ZWL</td>\n",
       "      <td>Wollaston Lake Airport</td>\n",
       "      <td>Wollaston Lake, Canada</td>\n",
       "    </tr>\n",
       "    <tr>\n",
       "      <th>3922</th>\n",
       "      <td>/flights-from-zunyi-zyi</td>\n",
       "      <td>ZYI</td>\n",
       "      <td>Zunyi Airport</td>\n",
       "      <td>Zunyi, China</td>\n",
       "    </tr>\n",
       "    <tr>\n",
       "      <th>3923</th>\n",
       "      <td>/flights-from-sylhet-zyl</td>\n",
       "      <td>ZYL</td>\n",
       "      <td>Osmani International Airport</td>\n",
       "      <td>Sylhet, Bangladesh</td>\n",
       "    </tr>\n",
       "    <tr>\n",
       "      <th>3924</th>\n",
       "      <td>/flights-from-mzuzu-zzu</td>\n",
       "      <td>ZZU</td>\n",
       "      <td>Mzuzu Airport</td>\n",
       "      <td>Mzuzu, Malawi</td>\n",
       "    </tr>\n",
       "  </tbody>\n",
       "</table>\n",
       "<p>3925 rows × 4 columns</p>\n",
       "</div>"
      ],
      "text/plain": [
       "                                  link code  \\\n",
       "0               /flights-from-anaa-aaa  AAA   \n",
       "1             /flights-from-annaba-aae  AAE   \n",
       "2            /flights-from-aranuka-aak  AAK   \n",
       "3            /flights-from-aalborg-aal  AAL   \n",
       "4             /flights-from-al-ain-aan  AAN   \n",
       "...                                ...  ...   \n",
       "3920     /flights-from-savannakhet-zvk  ZVK   \n",
       "3921  /flights-from-wollaston-lake-zwl  ZWL   \n",
       "3922           /flights-from-zunyi-zyi  ZYI   \n",
       "3923          /flights-from-sylhet-zyl  ZYL   \n",
       "3924           /flights-from-mzuzu-zzu  ZZU   \n",
       "\n",
       "                                   name                  city_country  \n",
       "0                          Anaa Airport        Anaa, French Polynesia  \n",
       "1     Rabah Bitat Airport (Les Salines                Annaba, Algeria  \n",
       "2                       Aranuka Airport             Aranuka, Kiribati  \n",
       "3                       Aalborg Airport              Aalborg, Denmark  \n",
       "4          Al Ain International Airport  Al Ain, United Arab Emirates  \n",
       "...                                 ...                           ...  \n",
       "3920                Savannakhet Airport             Savannakhet, Laos  \n",
       "3921             Wollaston Lake Airport        Wollaston Lake, Canada  \n",
       "3922                      Zunyi Airport                  Zunyi, China  \n",
       "3923       Osmani International Airport            Sylhet, Bangladesh  \n",
       "3924                      Mzuzu Airport                 Mzuzu, Malawi  \n",
       "\n",
       "[3925 rows x 4 columns]"
      ]
     },
     "execution_count": 64,
     "metadata": {},
     "output_type": "execute_result"
    }
   ],
   "source": [
    "airport_info = pd.DataFrame(airport_info)\n",
    "airport_info"
   ]
  },
  {
   "cell_type": "code",
   "execution_count": 196,
   "metadata": {},
   "outputs": [],
   "source": [
    "airport_info.to_csv(\"airport_info.csv\")"
   ]
  },
  {
   "cell_type": "code",
   "execution_count": 112,
   "metadata": {},
   "outputs": [
    {
     "data": {
      "text/plain": [
       "('/flights-from-anaa-aaa', 'AAA')"
      ]
     },
     "execution_count": 112,
     "metadata": {},
     "output_type": "execute_result"
    }
   ],
   "source": [
    "url_airport = airport_info.link[0]\n",
    "source_airport = airport_info.code[0]\n",
    "url_airport, source_airport"
   ]
  },
  {
   "cell_type": "code",
   "execution_count": 80,
   "metadata": {},
   "outputs": [],
   "source": [
    "flights_info = get_soup(url_main + url_airport)"
   ]
  },
  {
   "cell_type": "code",
   "execution_count": 86,
   "metadata": {},
   "outputs": [
    {
     "data": {
      "text/plain": [
       "[<div class=\"popular-destination\" data-a=\"Tahiti (PPT)\" data-c=\"5905\"><div class=\"country-img\"><img alt=\"French Polynesia\" src=\"/flags/24/PF.png\" title=\"French Polynesia\"/></div><div class=\"popular-destination-airport-name\">Tahiti (PPT)</div><span class=\"float-right\"> 6 flights / month</span></div>,\n",
       " <div class=\"popular-destination\" data-a=\"Faaite (FAC)\" data-c=\"2565\"><div class=\"country-img\"><img alt=\"French Polynesia\" src=\"/flags/24/PF.png\" title=\"French Polynesia\"/></div><div class=\"popular-destination-airport-name\">Faaite (FAC)</div><span class=\"float-right\"> 0 flights / month</span></div>,\n",
       " <div class=\"popular-destination\" data-a=\"Makemo (MKP)\" data-c=\"5069\"><div class=\"country-img\"><img alt=\"French Polynesia\" src=\"/flags/24/PF.png\" title=\"French Polynesia\"/></div><div class=\"popular-destination-airport-name\">Makemo (MKP)</div><span class=\"float-right\"> 0 flights / month</span></div>,\n",
       " <div class=\"popular-destination\" data-a=\"Raroia (RRR)\" data-c=\"6161\"><div class=\"country-img\"><img alt=\"French Polynesia\" src=\"/flags/24/PF.png\" title=\"French Polynesia\"/></div><div class=\"popular-destination-airport-name\">Raroia (RRR)</div><span class=\"float-right\"> 0 flights / month</span></div>]"
      ]
     },
     "execution_count": 86,
     "metadata": {},
     "output_type": "execute_result"
    }
   ],
   "source": [
    "popular_destinations = flights_info.find(\"div\", attrs={\"class\":\"popular-destinations-list\"})\n",
    "popular_destinations = popular_destinations.findAll(\"div\", attrs={\"class\":\"popular-destination\"})\n",
    "popular_destinations"
   ]
  },
  {
   "cell_type": "code",
   "execution_count": 88,
   "metadata": {},
   "outputs": [
    {
     "data": {
      "text/plain": [
       "<div class=\"popular-destination\" data-a=\"Tahiti (PPT)\" data-c=\"5905\"><div class=\"country-img\"><img alt=\"French Polynesia\" src=\"/flags/24/PF.png\" title=\"French Polynesia\"/></div><div class=\"popular-destination-airport-name\">Tahiti (PPT)</div><span class=\"float-right\"> 6 flights / month</span></div>"
      ]
     },
     "execution_count": 88,
     "metadata": {},
     "output_type": "execute_result"
    }
   ],
   "source": [
    "destination = popular_destinations[0]\n",
    "destination"
   ]
  },
  {
   "cell_type": "code",
   "execution_count": 90,
   "metadata": {},
   "outputs": [
    {
     "data": {
      "text/plain": [
       "'Tahiti (PPT)'"
      ]
     },
     "execution_count": 90,
     "metadata": {},
     "output_type": "execute_result"
    }
   ],
   "source": [
    "destination_name = destination.find(\"div\", attrs={'class':\"popular-destination-airport-name\"}).text\n",
    "destination_name"
   ]
  },
  {
   "cell_type": "code",
   "execution_count": 98,
   "metadata": {},
   "outputs": [
    {
     "data": {
      "text/plain": [
       "'PPT'"
      ]
     },
     "execution_count": 98,
     "metadata": {},
     "output_type": "execute_result"
    }
   ],
   "source": [
    "destination_code = re.findall(\"\\((.*?)\\)\", destination_name)[0]\n",
    "destination_code"
   ]
  },
  {
   "cell_type": "code",
   "execution_count": 101,
   "metadata": {},
   "outputs": [
    {
     "data": {
      "text/plain": [
       "'6 flights / month'"
      ]
     },
     "execution_count": 101,
     "metadata": {},
     "output_type": "execute_result"
    }
   ],
   "source": [
    "destination_flights = destination.find(\"span\", attrs={'class':\"float-right\"}).text.strip()\n",
    "destination_flights"
   ]
  },
  {
   "cell_type": "code",
   "execution_count": 102,
   "metadata": {},
   "outputs": [
    {
     "data": {
      "text/plain": [
       "'6 flights / month'"
      ]
     },
     "execution_count": 102,
     "metadata": {},
     "output_type": "execute_result"
    }
   ],
   "source": [
    "destination_flights"
   ]
  },
  {
   "cell_type": "code",
   "execution_count": 107,
   "metadata": {},
   "outputs": [
    {
     "data": {
      "text/plain": [
       "6"
      ]
     },
     "execution_count": 107,
     "metadata": {},
     "output_type": "execute_result"
    }
   ],
   "source": [
    "destination_flights = re.findall('\\d+', destination_flights)[0]\n",
    "if destination_flights.isdigit():\n",
    "    destination_flights = int(destination_flights)\n",
    "destination_flights"
   ]
  },
  {
   "cell_type": "code",
   "execution_count": 120,
   "metadata": {},
   "outputs": [],
   "source": [
    "def _destination_info(destination, source_airport)->Dict[str,str]:\n",
    "    \"\"\"\n",
    "    Get iformation on destination code and number of flights per month\n",
    "    \n",
    "    :destination: bs4.element.Tag\n",
    "    \n",
    "    :source_airport: str\n",
    "        IATA code for the airport\n",
    "    \n",
    "    returns: Dict\n",
    "        parsed destination info\n",
    "    \"\"\"\n",
    "    \n",
    "    destination_name = destination.find(\"div\", attrs={'class':\"popular-destination-airport-name\"}).text\n",
    "    destination_code = re.findall(\"\\((.*?)\\)\", destination_name)[0]\n",
    "    \n",
    "    destination_flights = destination.find(\"span\", attrs={'class':\"float-right\"}).text.strip()\n",
    "    destination_flights = re.findall('\\d+', destination_flights)[0]\n",
    "    if destination_flights.isdigit():\n",
    "        destination_flights = int(destination_flights)\n",
    "        \n",
    "    return {\"sourse_code\": source_airport, \n",
    "            \"destination_code\":destination_code, \n",
    "            \"destination_flights\":destination_flights}"
   ]
  },
  {
   "cell_type": "code",
   "execution_count": 121,
   "metadata": {},
   "outputs": [
    {
     "data": {
      "text/plain": [
       "{'course_code': 'AAA', 'destination_code': 'RRR', 'destination_flights': 0}"
      ]
     },
     "execution_count": 121,
     "metadata": {},
     "output_type": "execute_result"
    }
   ],
   "source": [
    "_destination_info(destination, source_airport)"
   ]
  },
  {
   "cell_type": "code",
   "execution_count": 122,
   "metadata": {},
   "outputs": [],
   "source": [
    "destinations_info = []\n",
    "for destination in popular_destinations:\n",
    "    destinations_info.append(_destination_info(destination, source_airport))"
   ]
  },
  {
   "cell_type": "code",
   "execution_count": 123,
   "metadata": {},
   "outputs": [
    {
     "data": {
      "text/html": [
       "<div>\n",
       "<style scoped>\n",
       "    .dataframe tbody tr th:only-of-type {\n",
       "        vertical-align: middle;\n",
       "    }\n",
       "\n",
       "    .dataframe tbody tr th {\n",
       "        vertical-align: top;\n",
       "    }\n",
       "\n",
       "    .dataframe thead th {\n",
       "        text-align: right;\n",
       "    }\n",
       "</style>\n",
       "<table border=\"1\" class=\"dataframe\">\n",
       "  <thead>\n",
       "    <tr style=\"text-align: right;\">\n",
       "      <th></th>\n",
       "      <th>course_code</th>\n",
       "      <th>destination_code</th>\n",
       "      <th>destination_flights</th>\n",
       "    </tr>\n",
       "  </thead>\n",
       "  <tbody>\n",
       "    <tr>\n",
       "      <th>0</th>\n",
       "      <td>AAA</td>\n",
       "      <td>PPT</td>\n",
       "      <td>6</td>\n",
       "    </tr>\n",
       "    <tr>\n",
       "      <th>1</th>\n",
       "      <td>AAA</td>\n",
       "      <td>FAC</td>\n",
       "      <td>0</td>\n",
       "    </tr>\n",
       "    <tr>\n",
       "      <th>2</th>\n",
       "      <td>AAA</td>\n",
       "      <td>MKP</td>\n",
       "      <td>0</td>\n",
       "    </tr>\n",
       "    <tr>\n",
       "      <th>3</th>\n",
       "      <td>AAA</td>\n",
       "      <td>RRR</td>\n",
       "      <td>0</td>\n",
       "    </tr>\n",
       "  </tbody>\n",
       "</table>\n",
       "</div>"
      ],
      "text/plain": [
       "  course_code destination_code  destination_flights\n",
       "0         AAA              PPT                    6\n",
       "1         AAA              FAC                    0\n",
       "2         AAA              MKP                    0\n",
       "3         AAA              RRR                    0"
      ]
     },
     "execution_count": 123,
     "metadata": {},
     "output_type": "execute_result"
    }
   ],
   "source": [
    "pd.DataFrame(destinations_info)"
   ]
  },
  {
   "cell_type": "code",
   "execution_count": 126,
   "metadata": {},
   "outputs": [],
   "source": [
    "def get_destinations_info(url_airport, source_airport)->List[Dict]:\n",
    "    \"\"\"\n",
    "    Get destination code and number of flights for all destinations\n",
    "    \n",
    "    :url_airport: string\n",
    "    :source_airport: string\n",
    "    \"\"\"\n",
    "    flights_info = get_soup(url_main + url_airport)\n",
    "    \n",
    "    popular_destinations = flights_info.find(\"div\", attrs={\"class\":\"popular-destinations-list\"})\n",
    "    popular_destinations = popular_destinations.findAll(\"div\", attrs={\"class\":\"popular-destination\"})\n",
    "    \n",
    "    destinations_info = []\n",
    "    for destination in popular_destinations:\n",
    "        destinations_info.append(_destination_info(destination, source_airport))\n",
    "        \n",
    "    return destinations_info  "
   ]
  },
  {
   "cell_type": "code",
   "execution_count": 125,
   "metadata": {},
   "outputs": [
    {
     "data": {
      "text/plain": [
       "[{'course_code': 'AAA', 'destination_code': 'PPT', 'destination_flights': 6},\n",
       " {'course_code': 'AAA', 'destination_code': 'RRR', 'destination_flights': 0},\n",
       " {'course_code': 'AAA', 'destination_code': 'FAC', 'destination_flights': 0},\n",
       " {'course_code': 'AAA', 'destination_code': 'MKP', 'destination_flights': 0}]"
      ]
     },
     "execution_count": 125,
     "metadata": {},
     "output_type": "execute_result"
    }
   ],
   "source": [
    "get_destinations_info(url_airport, source_airport)"
   ]
  },
  {
   "cell_type": "code",
   "execution_count": 143,
   "metadata": {},
   "outputs": [
    {
     "data": {
      "text/plain": [
       "Pandas(Index=0, link='/flights-from-anaa-aaa', code='AAA', name='Anaa Airport', city_country='Anaa, French Polynesia')"
      ]
     },
     "execution_count": 143,
     "metadata": {},
     "output_type": "execute_result"
    }
   ],
   "source": [
    "list(airport_info.itertuples())[0]"
   ]
  },
  {
   "cell_type": "markdown",
   "metadata": {},
   "source": [
    "## An interesting comparison"
   ]
  },
  {
   "cell_type": "code",
   "execution_count": 138,
   "metadata": {},
   "outputs": [
    {
     "name": "stdout",
     "output_type": "stream",
     "text": [
      "255 ms ± 8.8 ms per loop (mean ± std. dev. of 7 runs, 1 loop each)\n"
     ]
    }
   ],
   "source": [
    "%%timeit\n",
    "for row in airport_info.iterrows():\n",
    "    pass"
   ]
  },
  {
   "cell_type": "code",
   "execution_count": 140,
   "metadata": {},
   "outputs": [
    {
     "name": "stdout",
     "output_type": "stream",
     "text": [
      "3.04 ms ± 102 µs per loop (mean ± std. dev. of 7 runs, 100 loops each)\n"
     ]
    }
   ],
   "source": [
    "%%timeit\n",
    "for row in airport_info.itertuples():\n",
    "    pass"
   ]
  },
  {
   "cell_type": "markdown",
   "metadata": {},
   "source": [
    "## Final parsing"
   ]
  },
  {
   "cell_type": "code",
   "execution_count": 200,
   "metadata": {},
   "outputs": [
    {
     "data": {
      "application/vnd.jupyter.widget-view+json": {
       "model_id": "36753f8f858941e5911298cd0d1462ce",
       "version_major": 2,
       "version_minor": 0
      },
      "text/plain": [
       "HBox(children=(IntProgress(value=0, max=3925), HTML(value='')))"
      ]
     },
     "metadata": {},
     "output_type": "display_data"
    },
    {
     "name": "stdout",
     "output_type": "stream",
     "text": [
      "'NoneType' object has no attribute 'findAll' /flights-from-annaba-aae ZZU\n",
      "'NoneType' object has no attribute 'findAll' /flights-from-cherepovets-cee ZZU\n",
      "'NoneType' object has no attribute 'findAll' /flights-from-cotonou-coo ZZU\n",
      "'NoneType' object has no attribute 'findAll' /flights-from-dnipro-dnk ZZU\n",
      "'NoneType' object has no attribute 'findAll' /flights-from-friedrichshafen-fdh ZZU\n",
      "'NoneType' object has no attribute 'findAll' /flights-from-kherson-khe ZZU\n",
      "'NoneType' object has no attribute 'findAll' /flights-from-n-djamena-ndj ZZU\n",
      "'NoneType' object has no attribute 'findAll' /flights-from-saarbr%C3%BCcken-scn ZZU\n"
     ]
    }
   ],
   "source": [
    "full_destination_routes = []\n",
    "\n",
    "exceptions = []\n",
    "\n",
    "for row in tqdm_notebook(airport_info.itertuples(), total=airport_info.shape[0]):\n",
    "    url_airport = row.link\n",
    "    source_airport = row.code\n",
    "    try:\n",
    "        full_destination_routes.extend(get_destinations_info(url_airport, source_airport))\n",
    "    except Exception as e:\n",
    "        if e == KeyboardInterrupt:\n",
    "            break            \n",
    "        else:\n",
    "            print(e, url_airport, source_code)\n",
    "        exceptions.append([e, url_airport, source_code])\n",
    "    time.sleep(0.5)"
   ]
  },
  {
   "cell_type": "code",
   "execution_count": 201,
   "metadata": {},
   "outputs": [],
   "source": [
    "pd.DataFrame(full_destination_routes).to_csv(\"routes.csv\")"
   ]
  },
  {
   "cell_type": "code",
   "execution_count": 202,
   "metadata": {},
   "outputs": [],
   "source": [
    "result = pd.DataFrame(full_destination_routes)"
   ]
  },
  {
   "cell_type": "code",
   "execution_count": 203,
   "metadata": {},
   "outputs": [
    {
     "data": {
      "text/plain": [
       "(28330, 3)"
      ]
     },
     "execution_count": 203,
     "metadata": {},
     "output_type": "execute_result"
    }
   ],
   "source": [
    "result.shape"
   ]
  },
  {
   "cell_type": "code",
   "execution_count": 205,
   "metadata": {},
   "outputs": [
    {
     "data": {
      "text/html": [
       "<div>\n",
       "<style scoped>\n",
       "    .dataframe tbody tr th:only-of-type {\n",
       "        vertical-align: middle;\n",
       "    }\n",
       "\n",
       "    .dataframe tbody tr th {\n",
       "        vertical-align: top;\n",
       "    }\n",
       "\n",
       "    .dataframe thead th {\n",
       "        text-align: right;\n",
       "    }\n",
       "</style>\n",
       "<table border=\"1\" class=\"dataframe\">\n",
       "  <thead>\n",
       "    <tr style=\"text-align: right;\">\n",
       "      <th></th>\n",
       "      <th>course_code</th>\n",
       "      <th>destination_code</th>\n",
       "      <th>destination_flights</th>\n",
       "    </tr>\n",
       "  </thead>\n",
       "  <tbody>\n",
       "    <tr>\n",
       "      <th>0</th>\n",
       "      <td>AAA</td>\n",
       "      <td>PPT</td>\n",
       "      <td>6</td>\n",
       "    </tr>\n",
       "    <tr>\n",
       "      <th>1</th>\n",
       "      <td>AAA</td>\n",
       "      <td>MKP</td>\n",
       "      <td>0</td>\n",
       "    </tr>\n",
       "    <tr>\n",
       "      <th>2</th>\n",
       "      <td>AAA</td>\n",
       "      <td>RRR</td>\n",
       "      <td>0</td>\n",
       "    </tr>\n",
       "    <tr>\n",
       "      <th>3</th>\n",
       "      <td>AAA</td>\n",
       "      <td>FAC</td>\n",
       "      <td>0</td>\n",
       "    </tr>\n",
       "    <tr>\n",
       "      <th>4</th>\n",
       "      <td>AAK</td>\n",
       "      <td>TRW</td>\n",
       "      <td>12</td>\n",
       "    </tr>\n",
       "    <tr>\n",
       "      <th>...</th>\n",
       "      <td>...</td>\n",
       "      <td>...</td>\n",
       "      <td>...</td>\n",
       "    </tr>\n",
       "    <tr>\n",
       "      <th>28325</th>\n",
       "      <td>ZYL</td>\n",
       "      <td>JED</td>\n",
       "      <td>0</td>\n",
       "    </tr>\n",
       "    <tr>\n",
       "      <th>28326</th>\n",
       "      <td>ZYL</td>\n",
       "      <td>LHR</td>\n",
       "      <td>0</td>\n",
       "    </tr>\n",
       "    <tr>\n",
       "      <th>28327</th>\n",
       "      <td>ZYL</td>\n",
       "      <td>MCT</td>\n",
       "      <td>0</td>\n",
       "    </tr>\n",
       "    <tr>\n",
       "      <th>28328</th>\n",
       "      <td>ZZU</td>\n",
       "      <td>LIX</td>\n",
       "      <td>17</td>\n",
       "    </tr>\n",
       "    <tr>\n",
       "      <th>28329</th>\n",
       "      <td>ZZU</td>\n",
       "      <td>LLW</td>\n",
       "      <td>8</td>\n",
       "    </tr>\n",
       "  </tbody>\n",
       "</table>\n",
       "<p>28330 rows × 3 columns</p>\n",
       "</div>"
      ],
      "text/plain": [
       "      course_code destination_code  destination_flights\n",
       "0             AAA              PPT                    6\n",
       "1             AAA              MKP                    0\n",
       "2             AAA              RRR                    0\n",
       "3             AAA              FAC                    0\n",
       "4             AAK              TRW                   12\n",
       "...           ...              ...                  ...\n",
       "28325         ZYL              JED                    0\n",
       "28326         ZYL              LHR                    0\n",
       "28327         ZYL              MCT                    0\n",
       "28328         ZZU              LIX                   17\n",
       "28329         ZZU              LLW                    8\n",
       "\n",
       "[28330 rows x 3 columns]"
      ]
     },
     "execution_count": 205,
     "metadata": {},
     "output_type": "execute_result"
    }
   ],
   "source": [
    "result"
   ]
  },
  {
   "cell_type": "code",
   "execution_count": 207,
   "metadata": {},
   "outputs": [
    {
     "data": {
      "text/plain": [
       "<matplotlib.axes._subplots.AxesSubplot at 0x115d0a898>"
      ]
     },
     "execution_count": 207,
     "metadata": {},
     "output_type": "execute_result"
    },
    {
     "data": {
      "image/png": "[encoded data removed]",
      "text/plain": [
       "<Figure size 432x288 with 1 Axes>"
      ]
     },
     "metadata": {
      "needs_background": "light"
     },
     "output_type": "display_data"
    }
   ],
   "source": [
    "result.destination_flights[result.destination_flights>0].apply(np.log).hist()"
   ]
  },
  {
   "cell_type": "markdown",
   "metadata": {},
   "source": [
    "--- \n",
    "\n",
    "## Population"
   ]
  },
  {
   "cell_type": "code",
   "execution_count": 209,
   "metadata": {},
   "outputs": [],
   "source": [
    "population_link = \"http://worldpopulationreview.com/world-cities/\""
   ]
  },
  {
   "cell_type": "code",
   "execution_count": 210,
   "metadata": {},
   "outputs": [],
   "source": [
    "soup = get_soup(population_link)"
   ]
  },
  {
   "cell_type": "code",
   "execution_count": 212,
   "metadata": {},
   "outputs": [],
   "source": [
    "table = soup.find(\"table\", attrs={\"class\":\"datatableStyles__StyledTable-bwtkle-1 hOnuWY table table-striped\"})"
   ]
  },
  {
   "cell_type": "code",
   "execution_count": 220,
   "metadata": {},
   "outputs": [
    {
     "data": {
      "text/html": [
       "<div>\n",
       "<style scoped>\n",
       "    .dataframe tbody tr th:only-of-type {\n",
       "        vertical-align: middle;\n",
       "    }\n",
       "\n",
       "    .dataframe tbody tr th {\n",
       "        vertical-align: top;\n",
       "    }\n",
       "\n",
       "    .dataframe thead th {\n",
       "        text-align: right;\n",
       "    }\n",
       "</style>\n",
       "<table border=\"1\" class=\"dataframe\">\n",
       "  <thead>\n",
       "    <tr style=\"text-align: right;\">\n",
       "      <th></th>\n",
       "      <th>Rank</th>\n",
       "      <th>Name</th>\n",
       "      <th>2020 Population</th>\n",
       "      <th>2019 Population</th>\n",
       "      <th>Change</th>\n",
       "    </tr>\n",
       "  </thead>\n",
       "  <tbody>\n",
       "    <tr>\n",
       "      <th>0</th>\n",
       "      <td>1</td>\n",
       "      <td>Tokyo</td>\n",
       "      <td>37393129</td>\n",
       "      <td>37435191</td>\n",
       "      <td>-0.11%</td>\n",
       "    </tr>\n",
       "    <tr>\n",
       "      <th>1</th>\n",
       "      <td>2</td>\n",
       "      <td>Delhi</td>\n",
       "      <td>30290936</td>\n",
       "      <td>29399141</td>\n",
       "      <td>3.03%</td>\n",
       "    </tr>\n",
       "    <tr>\n",
       "      <th>2</th>\n",
       "      <td>3</td>\n",
       "      <td>Shanghai</td>\n",
       "      <td>27058479</td>\n",
       "      <td>26317104</td>\n",
       "      <td>2.82%</td>\n",
       "    </tr>\n",
       "    <tr>\n",
       "      <th>3</th>\n",
       "      <td>4</td>\n",
       "      <td>Sao Paulo</td>\n",
       "      <td>22043028</td>\n",
       "      <td>21846507</td>\n",
       "      <td>0.90%</td>\n",
       "    </tr>\n",
       "    <tr>\n",
       "      <th>4</th>\n",
       "      <td>5</td>\n",
       "      <td>Mexico City</td>\n",
       "      <td>21782378</td>\n",
       "      <td>21671908</td>\n",
       "      <td>0.51%</td>\n",
       "    </tr>\n",
       "    <tr>\n",
       "      <th>...</th>\n",
       "      <td>...</td>\n",
       "      <td>...</td>\n",
       "      <td>...</td>\n",
       "      <td>...</td>\n",
       "      <td>...</td>\n",
       "    </tr>\n",
       "    <tr>\n",
       "      <th>1718</th>\n",
       "      <td>1719</td>\n",
       "      <td>Kurume</td>\n",
       "      <td>304865</td>\n",
       "      <td>305335</td>\n",
       "      <td>-0.15%</td>\n",
       "    </tr>\n",
       "    <tr>\n",
       "      <th>1719</th>\n",
       "      <td>1720</td>\n",
       "      <td>Orlando</td>\n",
       "      <td>303933</td>\n",
       "      <td>290553</td>\n",
       "      <td>2.25%</td>\n",
       "    </tr>\n",
       "    <tr>\n",
       "      <th>1720</th>\n",
       "      <td>1721</td>\n",
       "      <td>Pittsburgh</td>\n",
       "      <td>302669</td>\n",
       "      <td>303147</td>\n",
       "      <td>-0.08%</td>\n",
       "    </tr>\n",
       "    <tr>\n",
       "      <th>1721</th>\n",
       "      <td>1722</td>\n",
       "      <td>Vladikavkaz</td>\n",
       "      <td>302105</td>\n",
       "      <td>303891</td>\n",
       "      <td>-0.59%</td>\n",
       "    </tr>\n",
       "    <tr>\n",
       "      <th>1722</th>\n",
       "      <td>1723</td>\n",
       "      <td>Aguadilla Isabela San Sebastian</td>\n",
       "      <td>299956</td>\n",
       "      <td>300568</td>\n",
       "      <td>-0.20%</td>\n",
       "    </tr>\n",
       "  </tbody>\n",
       "</table>\n",
       "<p>1723 rows × 5 columns</p>\n",
       "</div>"
      ],
      "text/plain": [
       "      Rank                             Name  2020 Population  2019 Population  \\\n",
       "0        1                            Tokyo         37393129         37435191   \n",
       "1        2                            Delhi         30290936         29399141   \n",
       "2        3                         Shanghai         27058479         26317104   \n",
       "3        4                        Sao Paulo         22043028         21846507   \n",
       "4        5                      Mexico City         21782378         21671908   \n",
       "...    ...                              ...              ...              ...   \n",
       "1718  1719                           Kurume           304865           305335   \n",
       "1719  1720                          Orlando           303933           290553   \n",
       "1720  1721                       Pittsburgh           302669           303147   \n",
       "1721  1722                      Vladikavkaz           302105           303891   \n",
       "1722  1723  Aguadilla Isabela San Sebastian           299956           300568   \n",
       "\n",
       "      Change  \n",
       "0     -0.11%  \n",
       "1      3.03%  \n",
       "2      2.82%  \n",
       "3      0.90%  \n",
       "4      0.51%  \n",
       "...      ...  \n",
       "1718  -0.15%  \n",
       "1719   2.25%  \n",
       "1720  -0.08%  \n",
       "1721  -0.59%  \n",
       "1722  -0.20%  \n",
       "\n",
       "[1723 rows x 5 columns]"
      ]
     },
     "execution_count": 220,
     "metadata": {},
     "output_type": "execute_result"
    }
   ],
   "source": [
    "population = pd.read_html(str(table))[0]\n",
    "population"
   ]
  },
  {
   "cell_type": "code",
   "execution_count": 221,
   "metadata": {},
   "outputs": [],
   "source": [
    "population.to_csv(\"city_population.csv\")"
   ]
  },
  {
   "cell_type": "code",
   "execution_count": null,
   "metadata": {},
   "outputs": [],
   "source": []
  }
 ],
 "metadata": {
  "kernelspec": {
   "display_name": "Python 3",
   "language": "python",
   "name": "python3"
  },
  "language_info": {
   "codemirror_mode": {
    "name": "ipython",
    "version": 3
   },
   "file_extension": ".py",
   "mimetype": "text/x-python",
   "name": "python",
   "nbconvert_exporter": "python",
   "pygments_lexer": "ipython3",
   "version": "3.7.3"
  },
  "varInspector": {
   "cols": {
    "lenName": 16,
    "lenType": 16,
    "lenVar": 40
   },
   "kernels_config": {
    "python": {
     "delete_cmd_postfix": "",
     "delete_cmd_prefix": "del ",
     "library": "var_list.py",
     "varRefreshCmd": "print(var_dic_list())"
    },
    "r": {
     "delete_cmd_postfix": ") ",
     "delete_cmd_prefix": "rm(",
     "library": "var_list.r",
     "varRefreshCmd": "cat(var_dic_list()) "
    }
   },
   "types_to_exclude": [
    "module",
    "function",
    "builtin_function_or_method",
    "instance",
    "_Feature"
   ],
   "window_display": false
  }
 },
 "nbformat": 4,
 "nbformat_minor": 2
}
